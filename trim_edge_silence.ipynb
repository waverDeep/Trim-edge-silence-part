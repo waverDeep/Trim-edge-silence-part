{
 "cells": [
  {
   "cell_type": "code",
   "execution_count": 4,
   "metadata": {},
   "outputs": [],
   "source": [
    "import os\n",
    "import glob\n",
    "import multiprocessing\n",
    "from pydub import AudioSegment\n",
    "import functools\n",
    "from tqdm import tqdm\n",
    "import warnings\n",
    "warnings.filterwarnings(action='ignore') "
   ]
  },
  {
   "cell_type": "code",
   "execution_count": 5,
   "metadata": {},
   "outputs": [],
   "source": [
    "def get_all_file_path(input_dir, file_extension):\n",
    "    return glob.glob(os.path.join(input_dir, '**', '*.{}'.format(file_extension)), recursive=True)\n",
    "\n",
    "def detect_leading_silence(sound, silence_threshold=-50.0, chunk_size=10):\n",
    "    '''\n",
    "    sound is a pydub.AudioSegment\n",
    "    silence_threshold in dB\n",
    "    chunk_size in ms\n",
    "    iterate over chunks until you find the first one with sound\n",
    "    '''\n",
    "    trim_ms = 0 # ms\n",
    "    assert chunk_size > 0 # to avoid infinite loop\n",
    "    while sound[trim_ms:trim_ms+chunk_size].dBFS < silence_threshold and trim_ms < len(sound):\n",
    "        trim_ms += chunk_size\n",
    "    return trim_ms\n",
    "\n",
    "def preprocess(data, input_dir, dest_dir, silence_threshold=-50.0, chunk_size=10):\n",
    "    output_file_path = os.path.join(dest_dir, '/'.join(data.split('/')[2:-1]))\n",
    "    os.makedirs(output_file_path, exist_ok=True)\n",
    "    if not os.path.exists(output_file_path) or True:\n",
    "        sound = AudioSegment.from_file(data, format=\"wav\")\n",
    "        start_trim = detect_leading_silence(sound)\n",
    "        end_trim = detect_leading_silence(sound.reverse())\n",
    "        duration = len(sound)    \n",
    "        trimmed_sound = sound[start_trim:duration-end_trim]\n",
    "        trimmed_sound.export(os.path.join(dest_dir, '/'.join(data.split('/')[2:])), format=\"wav\")\n",
    "        return 0\n",
    "    \n",
    "def parallel_preprocess(input_dir, dest_dir, silence_threshold=-50.0, chunk_size=10, parallel=None):\n",
    "    dataset = get_all_file_path(input_dir, 'wav')\n",
    "    with multiprocessing.Pool(parallel) as p:\n",
    "        func = functools.partial(preprocess,\n",
    "            input_dir=input_dir, dest_dir=dest_dir,\n",
    "            silence_threshold=silence_threshold, chunk_size=chunk_size)\n",
    "        output = list(tqdm(p.imap(func, dataset), total=len(dataset)))"
   ]
  },
  {
   "cell_type": "code",
   "execution_count": 6,
   "metadata": {},
   "outputs": [
    {
     "name": "stderr",
     "output_type": "stream",
     "text": [
      "100%|██████████| 2452/2452 [00:00<00:00, 3403.04it/s]\n"
     ]
    }
   ],
   "source": [
    "parallel_preprocess(input_dir='./datasets_resample',\n",
    "                    dest_dir='./datasets_trim',\n",
    "                    silence_threshold=-50.0,\n",
    "                    chunk_size=10,\n",
    "                    parallel=multiprocessing.cpu_count())"
   ]
  }
 ],
 "metadata": {
  "kernelspec": {
   "display_name": "Python 3",
   "language": "python",
   "name": "python3"
  },
  "language_info": {
   "codemirror_mode": {
    "name": "ipython",
    "version": 3
   },
   "file_extension": ".py",
   "mimetype": "text/x-python",
   "name": "python",
   "nbconvert_exporter": "python",
   "pygments_lexer": "ipython3",
   "version": "3.6.9"
  }
 },
 "nbformat": 4,
 "nbformat_minor": 4
}
